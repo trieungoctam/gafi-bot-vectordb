{
 "cells": [
  {
   "cell_type": "code",
   "execution_count": 9,
   "metadata": {},
   "outputs": [],
   "source": [
    "from langchain_community.document_loaders import WebBaseLoader\n",
    "from langchain.text_splitter import RecursiveCharacterTextSplitter\n",
    "from langchain_community.vectorstores import Chroma\n",
    "from langchain_openai import OpenAIEmbeddings\n",
    "import os\n",
    "import shutil\n",
    "import json\n",
    "import pandas as pd\n",
    "\n",
    "CHROMA_PATH = \"./chroma\"\n",
    "DATA_PATH = \"./data/csv\"\n",
    "\n",
    "def get_url() -> list[str]:\n",
    "    data = json.load(open(\"./data/web_url.json\", \"r\"))\n",
    "    return data['url']\n",
    "\n",
    "def load_documents(urls: list[str]) -> None:\n",
    "    docs = []\n",
    "    for url in urls:\n",
    "        loader = WebBaseLoader(url)\n",
    "        doc = loader.load()\n",
    "        docs.extend(docs)\n",
    "    \n",
    "\n",
    "urls = get_url()\n",
    "docs = load_documents(urls)\n"
   ]
  },
  {
   "cell_type": "code",
   "execution_count": 22,
   "metadata": {},
   "outputs": [],
   "source": [
    "df = pd.DataFrame(docs, columns=['Metadata', 'Text', 'Type'])\n",
    "df.to_csv('./data/csv/document.csv')"
   ]
  }
 ],
 "metadata": {
  "kernelspec": {
   "display_name": "venv",
   "language": "python",
   "name": "python3"
  },
  "language_info": {
   "codemirror_mode": {
    "name": "ipython",
    "version": 3
   },
   "file_extension": ".py",
   "mimetype": "text/x-python",
   "name": "python",
   "nbconvert_exporter": "python",
   "pygments_lexer": "ipython3",
   "version": "3.10.13"
  }
 },
 "nbformat": 4,
 "nbformat_minor": 2
}
